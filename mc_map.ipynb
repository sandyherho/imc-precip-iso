{
 "cells": [
  {
   "cell_type": "code",
   "execution_count": 5,
   "id": "0bf6dc5b",
   "metadata": {},
   "outputs": [],
   "source": [
    "import pandas as pd\n",
    "import numpy as np\n",
    "import matplotlib.pyplot as plt\n",
    "import pygmt\n",
    "import warnings\n",
    "plt.style.use(\"ggplot\")\n",
    "plt.rcParams['figure.figsize'] = [20, 10]\n",
    "plt.rcParams['figure.dpi'] = 1200\n",
    "warnings.filterwarnings(\"ignore\")"
   ]
  },
  {
   "cell_type": "code",
   "execution_count": 6,
   "id": "cc580953",
   "metadata": {},
   "outputs": [],
   "source": [
    "df = pd.read_excel(\"./raw_data/st_list.xlsx\", sheet_name=\"Lengkap\",\n",
    "                  index_col=\"No\")"
   ]
  },
  {
   "cell_type": "code",
   "execution_count": 48,
   "id": "d04332ec",
   "metadata": {},
   "outputs": [
    {
     "data": {
      "text/html": [
       "<div>\n",
       "<style scoped>\n",
       "    .dataframe tbody tr th:only-of-type {\n",
       "        vertical-align: middle;\n",
       "    }\n",
       "\n",
       "    .dataframe tbody tr th {\n",
       "        vertical-align: top;\n",
       "    }\n",
       "\n",
       "    .dataframe thead th {\n",
       "        text-align: right;\n",
       "    }\n",
       "</style>\n",
       "<table border=\"1\" class=\"dataframe\">\n",
       "  <thead>\n",
       "    <tr style=\"text-align: right;\">\n",
       "      <th></th>\n",
       "      <th>Nama Stasiun</th>\n",
       "      <th>Provinsi</th>\n",
       "      <th>Bujur</th>\n",
       "      <th>Lintang</th>\n",
       "      <th>Elevasi</th>\n",
       "    </tr>\n",
       "    <tr>\n",
       "      <th>No</th>\n",
       "      <th></th>\n",
       "      <th></th>\n",
       "      <th></th>\n",
       "      <th></th>\n",
       "      <th></th>\n",
       "    </tr>\n",
       "  </thead>\n",
       "  <tbody>\n",
       "    <tr>\n",
       "      <th>1</th>\n",
       "      <td>Pos Polusi Udara Kemayoran</td>\n",
       "      <td>Jawa</td>\n",
       "      <td>106.84000</td>\n",
       "      <td>-6.15559</td>\n",
       "      <td>4</td>\n",
       "    </tr>\n",
       "    <tr>\n",
       "      <th>2</th>\n",
       "      <td>StaGeof Bandung</td>\n",
       "      <td>Jawa</td>\n",
       "      <td>107.59733</td>\n",
       "      <td>-6.88356</td>\n",
       "      <td>791</td>\n",
       "    </tr>\n",
       "    <tr>\n",
       "      <th>3</th>\n",
       "      <td>Pos Polusi Udara Cibeureum</td>\n",
       "      <td>Jawa</td>\n",
       "      <td>106.85000</td>\n",
       "      <td>-6.70000</td>\n",
       "      <td>920</td>\n",
       "    </tr>\n",
       "    <tr>\n",
       "      <th>4</th>\n",
       "      <td>StaKlim Padang Pariaman</td>\n",
       "      <td>Sumatera</td>\n",
       "      <td>100.29786</td>\n",
       "      <td>-0.54549</td>\n",
       "      <td>128</td>\n",
       "    </tr>\n",
       "    <tr>\n",
       "      <th>5</th>\n",
       "      <td>StaKlim Deli Serdang</td>\n",
       "      <td>Sumatera</td>\n",
       "      <td>98.71485</td>\n",
       "      <td>3.62114</td>\n",
       "      <td>25</td>\n",
       "    </tr>\n",
       "  </tbody>\n",
       "</table>\n",
       "</div>"
      ],
      "text/plain": [
       "                  Nama Stasiun  Provinsi      Bujur  Lintang  Elevasi\n",
       "No                                                                   \n",
       "1   Pos Polusi Udara Kemayoran      Jawa  106.84000 -6.15559        4\n",
       "2              StaGeof Bandung      Jawa  107.59733 -6.88356      791\n",
       "3   Pos Polusi Udara Cibeureum      Jawa  106.85000 -6.70000      920\n",
       "4      StaKlim Padang Pariaman  Sumatera  100.29786 -0.54549      128\n",
       "5         StaKlim Deli Serdang  Sumatera   98.71485  3.62114       25"
      ]
     },
     "execution_count": 48,
     "metadata": {},
     "output_type": "execute_result"
    }
   ],
   "source": [
    "df.head()"
   ]
  },
  {
   "cell_type": "code",
   "execution_count": 7,
   "id": "52198a00",
   "metadata": {},
   "outputs": [],
   "source": [
    "df = df.rename(columns={df.columns[0]:\"station_name\",\n",
    "                        df.columns[1]:\"region\",\n",
    "                        df.columns[2]:\"longitude\",\n",
    "                        df.columns[3]:\"latitude\",\n",
    "                        df.columns[4]:\"elevation\"})"
   ]
  },
  {
   "cell_type": "code",
   "execution_count": 8,
   "id": "6be4e738",
   "metadata": {},
   "outputs": [],
   "source": [
    "df[\"region\"] = df[\"region\"].str.replace(\"Jawa\",\"Java\")\n",
    "df[\"region\"] = df[\"region\"].str.replace(\"Kalimantan\", \"Borneo\")"
   ]
  },
  {
   "cell_type": "code",
   "execution_count": 9,
   "id": "621e5385",
   "metadata": {},
   "outputs": [],
   "source": [
    "# save data to csv \n",
    "df.to_csv(\"./processed_data/sta_list.csv\")"
   ]
  },
  {
   "cell_type": "code",
   "execution_count": null,
   "id": "249216ee",
   "metadata": {},
   "outputs": [],
   "source": []
  },
  {
   "cell_type": "code",
   "execution_count": 22,
   "id": "aacfe651",
   "metadata": {},
   "outputs": [],
   "source": [
    "fig = pygmt.Figure()\n",
    "fig.basemap(region=[93, 143, -20, 20], projection=\"M15c\", frame=True)\n",
    "fig.coast(land=\"black\", water=\"skyblue\")\n",
    "fig.plot(x=df[\"longitude\"], y=df[\"latitude\"], style=\"c0.3c\", cmap=\"white\", pen=\"black\")\n",
    "fig.savefig(\"./figs/fig1.png\")"
   ]
  },
  {
   "cell_type": "code",
   "execution_count": 20,
   "id": "fb526672",
   "metadata": {},
   "outputs": [],
   "source": []
  },
  {
   "cell_type": "code",
   "execution_count": null,
   "id": "d4dc428d",
   "metadata": {},
   "outputs": [],
   "source": []
  }
 ],
 "metadata": {
  "kernelspec": {
   "display_name": "Python 3 (ipykernel)",
   "language": "python",
   "name": "python3"
  },
  "language_info": {
   "codemirror_mode": {
    "name": "ipython",
    "version": 3
   },
   "file_extension": ".py",
   "mimetype": "text/x-python",
   "name": "python",
   "nbconvert_exporter": "python",
   "pygments_lexer": "ipython3",
   "version": "3.10.2"
  }
 },
 "nbformat": 4,
 "nbformat_minor": 5
}
