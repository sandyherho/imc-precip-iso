{
 "cells": [
  {
   "cell_type": "code",
   "execution_count": 10,
   "id": "0bf6dc5b",
   "metadata": {},
   "outputs": [],
   "source": [
    "import pandas as pd\n",
    "import numpy as np"
   ]
  },
  {
   "cell_type": "code",
   "execution_count": 12,
   "id": "cc580953",
   "metadata": {},
   "outputs": [],
   "source": [
    "df = pd.read_excel(\"./raw_data/st_list.xlsx\", sheet_name=\"Lengkap\",\n",
    "                  index_col=\"No\")"
   ]
  },
  {
   "cell_type": "code",
   "execution_count": 13,
   "id": "d04332ec",
   "metadata": {},
   "outputs": [
    {
     "data": {
      "text/html": [
       "<div>\n",
       "<style scoped>\n",
       "    .dataframe tbody tr th:only-of-type {\n",
       "        vertical-align: middle;\n",
       "    }\n",
       "\n",
       "    .dataframe tbody tr th {\n",
       "        vertical-align: top;\n",
       "    }\n",
       "\n",
       "    .dataframe thead th {\n",
       "        text-align: right;\n",
       "    }\n",
       "</style>\n",
       "<table border=\"1\" class=\"dataframe\">\n",
       "  <thead>\n",
       "    <tr style=\"text-align: right;\">\n",
       "      <th></th>\n",
       "      <th>Nama Stasiun</th>\n",
       "      <th>Provinsi</th>\n",
       "      <th>Bujur</th>\n",
       "      <th>Lintang</th>\n",
       "      <th>Elevasi</th>\n",
       "    </tr>\n",
       "    <tr>\n",
       "      <th>No</th>\n",
       "      <th></th>\n",
       "      <th></th>\n",
       "      <th></th>\n",
       "      <th></th>\n",
       "      <th></th>\n",
       "    </tr>\n",
       "  </thead>\n",
       "  <tbody>\n",
       "    <tr>\n",
       "      <th>1</th>\n",
       "      <td>Pos Polusi Udara Kemayoran</td>\n",
       "      <td>Jawa</td>\n",
       "      <td>106.84000</td>\n",
       "      <td>-6.15559</td>\n",
       "      <td>4</td>\n",
       "    </tr>\n",
       "    <tr>\n",
       "      <th>2</th>\n",
       "      <td>StaGeof Bandung</td>\n",
       "      <td>Jawa</td>\n",
       "      <td>107.59733</td>\n",
       "      <td>-6.88356</td>\n",
       "      <td>791</td>\n",
       "    </tr>\n",
       "    <tr>\n",
       "      <th>3</th>\n",
       "      <td>Pos Polusi Udara Cibeureum</td>\n",
       "      <td>Jawa</td>\n",
       "      <td>106.85000</td>\n",
       "      <td>-6.70000</td>\n",
       "      <td>920</td>\n",
       "    </tr>\n",
       "    <tr>\n",
       "      <th>4</th>\n",
       "      <td>StaKlim Padang Pariaman</td>\n",
       "      <td>Sumatera</td>\n",
       "      <td>100.29786</td>\n",
       "      <td>-0.54549</td>\n",
       "      <td>128</td>\n",
       "    </tr>\n",
       "    <tr>\n",
       "      <th>5</th>\n",
       "      <td>StaKlim Deli Serdang</td>\n",
       "      <td>Sumatera</td>\n",
       "      <td>98.71485</td>\n",
       "      <td>3.62114</td>\n",
       "      <td>25</td>\n",
       "    </tr>\n",
       "  </tbody>\n",
       "</table>\n",
       "</div>"
      ],
      "text/plain": [
       "                  Nama Stasiun  Provinsi      Bujur  Lintang  Elevasi\n",
       "No                                                                   \n",
       "1   Pos Polusi Udara Kemayoran      Jawa  106.84000 -6.15559        4\n",
       "2              StaGeof Bandung      Jawa  107.59733 -6.88356      791\n",
       "3   Pos Polusi Udara Cibeureum      Jawa  106.85000 -6.70000      920\n",
       "4      StaKlim Padang Pariaman  Sumatera  100.29786 -0.54549      128\n",
       "5         StaKlim Deli Serdang  Sumatera   98.71485  3.62114       25"
      ]
     },
     "execution_count": 13,
     "metadata": {},
     "output_type": "execute_result"
    }
   ],
   "source": [
    "df.head()"
   ]
  },
  {
   "cell_type": "code",
   "execution_count": 19,
   "id": "52198a00",
   "metadata": {},
   "outputs": [
    {
     "ename": "SyntaxError",
     "evalue": "invalid syntax (1337288079.py, line 1)",
     "output_type": "error",
     "traceback": [
      "\u001b[0;36m  Cell \u001b[0;32mIn[19], line 1\u001b[0;36m\u001b[0m\n\u001b[0;31m    df.rename([df.columns[0]:\"station_name\",\u001b[0m\n\u001b[0m                            ^\u001b[0m\n\u001b[0;31mSyntaxError\u001b[0m\u001b[0;31m:\u001b[0m invalid syntax\n"
     ]
    }
   ],
   "source": [
    "df.rename([df.columns[0]:\"station_name\",\n",
    "         df.columns[1]:\"province\",\n",
    "         df.columns[2]:\"longitude\",\n",
    "         df.columns[3]:\"latitude\",\n",
    "         df.columns[4]:\"elevation\"], axis=1)"
   ]
  },
  {
   "cell_type": "code",
   "execution_count": 18,
   "id": "5f1445ac",
   "metadata": {},
   "outputs": [
    {
     "data": {
      "text/plain": [
       "'Nama Stasiun'"
      ]
     },
     "execution_count": 18,
     "metadata": {},
     "output_type": "execute_result"
    }
   ],
   "source": [
    "df.columns[0]"
   ]
  },
  {
   "cell_type": "code",
   "execution_count": null,
   "id": "f1328d7b",
   "metadata": {},
   "outputs": [],
   "source": []
  }
 ],
 "metadata": {
  "kernelspec": {
   "display_name": "Python 3 (ipykernel)",
   "language": "python",
   "name": "python3"
  },
  "language_info": {
   "codemirror_mode": {
    "name": "ipython",
    "version": 3
   },
   "file_extension": ".py",
   "mimetype": "text/x-python",
   "name": "python",
   "nbconvert_exporter": "python",
   "pygments_lexer": "ipython3",
   "version": "3.11.4"
  }
 },
 "nbformat": 4,
 "nbformat_minor": 5
}
