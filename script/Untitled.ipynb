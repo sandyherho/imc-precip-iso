{
 "cells": [
  {
   "cell_type": "code",
   "execution_count": 1,
   "id": "30c5137e",
   "metadata": {},
   "outputs": [],
   "source": [
    "import pandas as pd\n",
    "import matplotlib.pyplot as plt\n",
    "import pygmt\n",
    "import warnings\n",
    "\n",
    "plt.style.use(\"ggplot\")\n",
    "plt.rcParams['figure.figsize'] = [20, 10]\n",
    "plt.rcParams['figure.dpi'] = 1200\n",
    "warnings.filterwarnings(\"ignore\")"
   ]
  },
  {
   "cell_type": "code",
   "execution_count": 2,
   "id": "a029ce35",
   "metadata": {},
   "outputs": [],
   "source": [
    "# read raw sta data\n",
    "df = pd.read_excel(\"../raw_data/st_list.xlsx\", sheet_name=\"Lengkap\",\n",
    "\tindex_col=\"No\")\n"
   ]
  },
  {
   "cell_type": "code",
   "execution_count": 3,
   "id": "359578c7",
   "metadata": {},
   "outputs": [],
   "source": [
    "# renaming\n",
    "df = df.rename(columns={df.columns[0]:\"station_name\",\n",
    "                        df.columns[1]:\"region\",\n",
    "                        df.columns[2]:\"longitude\",\n",
    "                        df.columns[3]:\"latitude\",\n",
    "                        df.columns[4]:\"elevation\"})\n",
    "\n",
    "df[\"region\"] = df[\"region\"].str.replace(\"Jawa\",\"Java\")\n",
    "df[\"region\"] = df[\"region\"].str.replace(\"Kalimantan\", \"Borneo\")\n",
    "\n"
   ]
  },
  {
   "cell_type": "code",
   "execution_count": 11,
   "id": "68c651ad",
   "metadata": {},
   "outputs": [],
   "source": [
    "df = df.drop([60, 61, 62], axis=0).reset_index().drop(\"No\", axis=1)"
   ]
  },
  {
   "cell_type": "code",
   "execution_count": 12,
   "id": "c3a25a3d",
   "metadata": {},
   "outputs": [],
   "source": [
    "df.index.name = \"No.\""
   ]
  },
  {
   "cell_type": "code",
   "execution_count": 13,
   "id": "f982cf28",
   "metadata": {},
   "outputs": [],
   "source": [
    "# save csv file\n",
    "df.to_csv(\"../processed_data/sta_list.csv\")\n",
    "\n",
    "# plot map\n",
    "fig = pygmt.Figure()\n",
    "fig.basemap(region=[93, 143, -20, 20], projection=\"M15c\", frame=True)\n",
    "fig.coast(land=\"black\", water=\"skyblue\")\n",
    "fig.plot(x=df[\"longitude\"], y=df[\"latitude\"], style=\"c0.3c\", cmap=\"white\", pen=\"black\")\n",
    "fig.savefig(\"../figs/fig1.png\")"
   ]
  },
  {
   "cell_type": "code",
   "execution_count": null,
   "id": "0996ad9f",
   "metadata": {},
   "outputs": [],
   "source": []
  }
 ],
 "metadata": {
  "kernelspec": {
   "display_name": "Python 3 (ipykernel)",
   "language": "python",
   "name": "python3"
  },
  "language_info": {
   "codemirror_mode": {
    "name": "ipython",
    "version": 3
   },
   "file_extension": ".py",
   "mimetype": "text/x-python",
   "name": "python",
   "nbconvert_exporter": "python",
   "pygments_lexer": "ipython3",
   "version": "3.10.2"
  }
 },
 "nbformat": 4,
 "nbformat_minor": 5
}
